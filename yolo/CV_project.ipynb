{
  "cells": [
    {
      "cell_type": "code",
      "execution_count": 1,
      "metadata": {
        "colab": {
          "base_uri": "https://localhost:8080/"
        },
        "id": "8hLWcvHV4VHX",
        "outputId": "f0e4b4b6-7db9-419f-bf38-2d3d5a22a146"
      },
      "outputs": [
        {
          "name": "stdout",
          "output_type": "stream",
          "text": [
            "Ultralytics 8.3.40 🚀 Python-3.9.6 torch-2.6.0 CPU (Apple M3)\n",
            "Setup complete ✅ (8 CPUs, 8.0 GB RAM, 201.7/228.3 GB disk)\n"
          ]
        }
      ],
      "source": [
        "%pip install \"ultralytics<=8.3.40\"\n",
        "import ultralytics\n",
        "ultralytics.checks()"
      ]
    },
    {
      "cell_type": "code",
      "execution_count": 8,
      "metadata": {
        "colab": {
          "base_uri": "https://localhost:8080/"
        },
        "id": "Sjh2uRz-9ErH",
        "outputId": "d9496100-6d89-4849-f490-890909f88186"
      },
      "outputs": [
        {
          "name": "stdout",
          "output_type": "stream",
          "text": [
            "Ultralytics 8.3.40 🚀 Python-3.9.6 torch-2.6.0 CPU (Apple M3)\n",
            "YOLO11s summary (fused): 238 layers, 9,413,187 parameters, 0 gradients, 21.3 GFLOPs\n"
          ]
        },
        {
          "name": "stderr",
          "output_type": "stream",
          "text": [
            "\u001b[34m\u001b[1mval: \u001b[0mScanning /Users/tomaszfrelek/CV_FINAL_PROJECT_SP25/yolo_data/test/labels... 995 images, 56 backgrounds, 0 corrupt: 100%|██████████| 995/995 [00:00<00:00, 2415.57it/s]"
          ]
        },
        {
          "name": "stdout",
          "output_type": "stream",
          "text": [
            "\u001b[34m\u001b[1mval: \u001b[0mNew cache created: /Users/tomaszfrelek/CV_FINAL_PROJECT_SP25/yolo_data/test/labels.cache\n"
          ]
        },
        {
          "name": "stderr",
          "output_type": "stream",
          "text": [
            "\n",
            "                 Class     Images  Instances      Box(P          R      mAP50  mAP50-95): 100%|██████████| 63/63 [08:50<00:00,  8.42s/it]\n"
          ]
        },
        {
          "name": "stdout",
          "output_type": "stream",
          "text": [
            "                   all        995        939      0.964      0.846      0.892      0.509\n",
            "Speed: 1.3ms preprocess, 526.5ms inference, 0.0ms loss, 0.4ms postprocess per image\n",
            "Results saved to \u001b[1mruns/detect/val4\u001b[0m\n"
          ]
        }
      ],
      "source": [
        "from ultralytics import YOLO\n",
        "\n",
        "#insert path to yolo_best.pt\n",
        "model = YOLO(\"../CV_FINAL_PROJECT_SP25/yolo/yolo_best.pt\")\n",
        "\n",
        "#the data path should be the path to the yaml file\n",
        "metrics = model.val(data=\"../CV_FINAL_PROJECT_SP25/yolo/yolo_data/data.yaml\", split=\"test\")\n"
      ]
    }
  ],
  "metadata": {
    "colab": {
      "provenance": []
    },
    "kernelspec": {
      "display_name": "Python 3",
      "name": "python3"
    },
    "language_info": {
      "codemirror_mode": {
        "name": "ipython",
        "version": 3
      },
      "file_extension": ".py",
      "mimetype": "text/x-python",
      "name": "python",
      "nbconvert_exporter": "python",
      "pygments_lexer": "ipython3",
      "version": "3.9.6"
    }
  },
  "nbformat": 4,
  "nbformat_minor": 0
}
